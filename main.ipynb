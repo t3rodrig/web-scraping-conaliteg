{
 "cells": [
  {
   "cell_type": "code",
   "execution_count": null,
   "id": "removed-dressing",
   "metadata": {},
   "outputs": [],
   "source": [
    "import json\n",
    "import time\n",
    "\n",
    "from PIL import Image\n",
    "from io import BytesIO\n",
    "from base64 import b64decode as decoder\n",
    "from selenium import webdriver\n",
    "from webdriver_manager.firefox import GeckoDriverManager"
   ]
  },
  {
   "cell_type": "code",
   "execution_count": null,
   "id": "affected-lightweight",
   "metadata": {},
   "outputs": [],
   "source": [
    "class Spider:\n",
    "    \"\"\"\n",
    "    This is the constructor class to which you can pass a bunch of parameters. \n",
    "    These parameters are stored to the class instance variables so that the\n",
    "    class functions can access them later.\n",
    "    \n",
    "    no_of_pages: number of pages to scrape\n",
    "    \"\"\"\n",
    "    def __init__(self, no_of_pages=1):\n",
    "        self.driver = webdriver.Firefox(\n",
    "            executable_path=GeckoDriverManager().install()\n",
    "        )\n",
    "        self.no_of_pages = no_of_pages\n",
    "        self.page_list = []\n",
    "        self.url_list = []\n",
    "                \n",
    "    def get_info(self, url, selectors, page_id=1):\n",
    "        driver = self.driver\n",
    "        result = dict()\n",
    "        driver.get(url)\n",
    "        time.sleep(2)\n",
    "        \n",
    "        for each_selector in selectors:\n",
    "            result[each_selector['alias']] = self.get_target(\n",
    "                {**each_selector, \"page_id\":page_id}\n",
    "            )\n",
    "        \n",
    "        return result\n",
    "    \n",
    "    def get_target(self, selector):\n",
    "        driver = self.driver\n",
    "        assert type(selector) == dict\n",
    "        page_id = selector['page_id']\n",
    "        target = selector['target']\n",
    "        css_selector = selector['css_selector'].format(page_id)\n",
    "        \n",
    "        assert (type(css_selector) == str) or (type(css_selector) == list)\n",
    "        \n",
    "        if target == 'src':\n",
    "            try:\n",
    "                return driver.find_element_by_css_selector(\n",
    "                    css_selector\n",
    "                ).get_attribute('src')\n",
    "            except:\n",
    "                return None\n",
    "        else:\n",
    "            return None"
   ]
  },
  {
   "cell_type": "code",
   "execution_count": null,
   "id": "south-salad",
   "metadata": {},
   "outputs": [],
   "source": [
    "my_spider = Spider()"
   ]
  },
  {
   "cell_type": "code",
   "execution_count": null,
   "id": "steady-tomato",
   "metadata": {},
   "outputs": [],
   "source": [
    "base_url = 'http://appstrillas.mx/pdfFlipping/viewer.jsp?id=SbS3AB#page/{}'"
   ]
  },
  {
   "cell_type": "code",
   "execution_count": null,
   "id": "electronic-complaint",
   "metadata": {},
   "outputs": [],
   "source": [
    "page_id=50\n",
    "test_url = base_url.format(page_id)\n",
    "test_url"
   ]
  },
  {
   "cell_type": "code",
   "execution_count": null,
   "id": "offensive-population",
   "metadata": {},
   "outputs": [],
   "source": [
    "selectors = [{\n",
    "        'alias': 'img-data',\n",
    "        'target': 'src',\n",
    "        'css_selector': '.p{} > img:nth-child(2)',\n",
    "}]"
   ]
  },
  {
   "cell_type": "code",
   "execution_count": null,
   "id": "stone-carrier",
   "metadata": {},
   "outputs": [],
   "source": [
    "my_product = my_spider.get_info(test_url, selectors, page_id)"
   ]
  },
  {
   "cell_type": "code",
   "execution_count": null,
   "id": "diverse-grain",
   "metadata": {},
   "outputs": [],
   "source": [
    "img_raw = my_product['img-data'].replace(\"data:image/jpg;base64,\",\"\")"
   ]
  },
  {
   "cell_type": "code",
   "execution_count": null,
   "id": "supposed-occasions",
   "metadata": {},
   "outputs": [],
   "source": [
    "img = Image.open(BytesIO(decoder(img_raw)))"
   ]
  },
  {
   "cell_type": "code",
   "execution_count": null,
   "id": "scientific-april",
   "metadata": {},
   "outputs": [],
   "source": [
    "img"
   ]
  },
  {
   "cell_type": "code",
   "execution_count": null,
   "id": "determined-concert",
   "metadata": {},
   "outputs": [],
   "source": [
    "img.save('img/page-{}.jpg'.format(page_id),'JPEG')"
   ]
  },
  {
   "cell_type": "code",
   "execution_count": null,
   "id": "protecting-raise",
   "metadata": {},
   "outputs": [],
   "source": []
  }
 ],
 "metadata": {
  "kernelspec": {
   "display_name": "Python 3",
   "language": "python",
   "name": "python3"
  },
  "language_info": {
   "codemirror_mode": {
    "name": "ipython",
    "version": 3
   },
   "file_extension": ".py",
   "mimetype": "text/x-python",
   "name": "python",
   "nbconvert_exporter": "python",
   "pygments_lexer": "ipython3",
   "version": "3.8.5"
  }
 },
 "nbformat": 4,
 "nbformat_minor": 5
}
