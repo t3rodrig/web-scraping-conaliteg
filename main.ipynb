{
 "cells": [
  {
   "cell_type": "code",
   "execution_count": 1,
   "id": "thousand-charles",
   "metadata": {},
   "outputs": [],
   "source": [
    "import json\n",
    "import time\n",
    "\n",
    "from PIL import Image\n",
    "from io import BytesIO\n",
    "from base64 import b64decode as decoder\n",
    "from selenium import webdriver\n",
    "from webdriver_manager.firefox import GeckoDriverManager"
   ]
  },
  {
   "cell_type": "code",
   "execution_count": 2,
   "id": "crucial-petroleum",
   "metadata": {},
   "outputs": [],
   "source": [
    "class Spider:\n",
    "    \"\"\"\n",
    "    This is the constructor class to which you can pass a bunch of parameters. \n",
    "    These parameters are stored to the class instance variables so that the\n",
    "    class functions can access them later.\n",
    "    \n",
    "    no_of_pages: number of pages to scrape\n",
    "    \"\"\"\n",
    "    def __init__(self, no_of_pages=1):\n",
    "        self.driver = webdriver.Firefox(\n",
    "            executable_path=GeckoDriverManager().install()\n",
    "        )\n",
    "        self.no_of_pages = no_of_pages\n",
    "        self.current_page = dict()\n",
    "                \n",
    "    def get_raw_page(self, page_rules, page_id=1):\n",
    "        assert type(page_rules) == dict\n",
    "        rules = dict()\n",
    "        result = dict()\n",
    "        driver = self.driver\n",
    "\n",
    "        \n",
    "        for key, value in page_rules.items():\n",
    "            rules[key] = value.format(page_id)\n",
    "\n",
    "        url = rules['url']\n",
    "        driver.get(url)\n",
    "        time.sleep(2)\n",
    "\n",
    "        result[rules['input_tag']] = self.get_target(\n",
    "                target = rules['target'],\n",
    "                css_selector = rules['css_selector']\n",
    "            )\n",
    "            \n",
    "        self.current_page = result\n",
    "        return result          \n",
    "    \n",
    "    def get_target(self, target='', css_selector=''):\n",
    "        '''\n",
    "        Get target from DOM\n",
    "        '''\n",
    "        \n",
    "        driver = self.driver\n",
    "                \n",
    "        if target == 'src':\n",
    "            try:\n",
    "                return driver.find_element_by_css_selector(\n",
    "                    css_selector\n",
    "                ).get_attribute('src')\n",
    "            except:\n",
    "                return None\n",
    "        else:\n",
    "            return None\n",
    "\n",
    "    def save_page(self, page_rules, page_id=1):\n",
    "        assert type(page_rules) == dict\n",
    "        current_page = self.current_page\n",
    "        \n",
    "        if current_page == {}:\n",
    "            get_raw_page(page_rules, page_id)\n",
    "        \n",
    "        img_raw = current_page['img-base64'].replace(\"data:image/jpg;base64,\",\"\")\n",
    "        img = Image.open(BytesIO(decoder(img_raw)))\n",
    "        img.save('img/page-{}.jpg'.format(page_id),'JPEG')\n",
    "        \n",
    "        print('...Image saved...')"
   ]
  },
  {
   "cell_type": "code",
   "execution_count": 3,
   "id": "stock-edinburgh",
   "metadata": {},
   "outputs": [
    {
     "name": "stderr",
     "output_type": "stream",
     "text": [
      "[WDM] - ====== WebDriver manager ======\n"
     ]
    },
    {
     "name": "stdout",
     "output_type": "stream",
     "text": [
      "\n",
      "\n"
     ]
    },
    {
     "name": "stderr",
     "output_type": "stream",
     "text": [
      "[WDM] - Driver [/home/tonalli/.wdm/drivers/geckodriver/linux64/v0.29.0/geckodriver] found in cache\n"
     ]
    }
   ],
   "source": [
    "my_spider = Spider()"
   ]
  },
  {
   "cell_type": "code",
   "execution_count": 4,
   "id": "official-exhibit",
   "metadata": {},
   "outputs": [],
   "source": [
    "page_rules = {\n",
    "        'url': 'http://appstrillas.mx/pdfFlipping/viewer.jsp?id=SbS3AB#page/{}',\n",
    "        'input_tag': 'img-base64',\n",
    "        'output_tag': 'page-{:03}',\n",
    "        'target': 'src',\n",
    "        'css_selector': '.p{} > img:nth-child(2)',\n",
    "}"
   ]
  },
  {
   "cell_type": "code",
   "execution_count": 5,
   "id": "black-stocks",
   "metadata": {},
   "outputs": [],
   "source": [
    "page_id=77"
   ]
  },
  {
   "cell_type": "code",
   "execution_count": 7,
   "id": "municipal-active",
   "metadata": {},
   "outputs": [],
   "source": [
    "current_page = my_spider.get_raw_page(page_rules, page_id)"
   ]
  },
  {
   "cell_type": "code",
   "execution_count": 8,
   "id": "coated-discrimination",
   "metadata": {},
   "outputs": [
    {
     "name": "stdout",
     "output_type": "stream",
     "text": [
      "...Image saved...\n"
     ]
    }
   ],
   "source": [
    "my_spider.save_page(page_rules, page_id)"
   ]
  },
  {
   "cell_type": "code",
   "execution_count": null,
   "id": "apart-photographer",
   "metadata": {},
   "outputs": [],
   "source": []
  }
 ],
 "metadata": {
  "kernelspec": {
   "display_name": "Python 3",
   "language": "python",
   "name": "python3"
  },
  "language_info": {
   "codemirror_mode": {
    "name": "ipython",
    "version": 3
   },
   "file_extension": ".py",
   "mimetype": "text/x-python",
   "name": "python",
   "nbconvert_exporter": "python",
   "pygments_lexer": "ipython3",
   "version": "3.8.5"
  }
 },
 "nbformat": 4,
 "nbformat_minor": 5
}
