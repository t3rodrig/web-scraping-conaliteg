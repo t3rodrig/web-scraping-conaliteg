{
 "cells": [
  {
   "cell_type": "code",
   "execution_count": 1,
   "id": "wireless-adapter",
   "metadata": {},
   "outputs": [],
   "source": [
    "import json\n",
    "import time\n",
    "\n",
    "from PIL import Image\n",
    "from io import BytesIO\n",
    "from base64 import b64decode as decoder\n",
    "from selenium import webdriver\n",
    "from webdriver_manager.firefox import GeckoDriverManager"
   ]
  },
  {
   "cell_type": "code",
   "execution_count": 2,
   "id": "atlantic-marks",
   "metadata": {},
   "outputs": [],
   "source": [
    "class Spider:\n",
    "    \"\"\"\n",
    "    This is the constructor class to which you can pass a bunch of parameters. \n",
    "    These parameters are stored to the class instance variables so that the\n",
    "    class functions can access them later.\n",
    "    \n",
    "    delay: delay parameter used in time.sleep()\n",
    "    \"\"\"\n",
    "    def __init__(self, delay=3):\n",
    "        self.driver = webdriver.Firefox(\n",
    "            executable_path=GeckoDriverManager().install()\n",
    "        )\n",
    "        self.delay = delay\n",
    "        self.current_page = dict()\n",
    "                \n",
    "    def get_raw_page(self, page_rules, page_id=1):\n",
    "        assert type(page_rules) == dict\n",
    "        rules = dict()\n",
    "        result = dict()\n",
    "        driver = self.driver\n",
    "\n",
    "        \n",
    "        for key, value in page_rules.items():\n",
    "            rules[key] = value.format(page_id)\n",
    "\n",
    "        url = rules['url']\n",
    "        driver.get(url)\n",
    "        time.sleep(self.delay)\n",
    "\n",
    "        result[rules['input_tag']] = self.get_target(\n",
    "                target = rules['target'],\n",
    "                css_selector = rules['css_selector']\n",
    "            )\n",
    "            \n",
    "        self.current_page = result\n",
    "        return result          \n",
    "    \n",
    "    def get_target(self, target='', css_selector=''):\n",
    "        '''\n",
    "        Get target from DOM\n",
    "        '''\n",
    "        \n",
    "        driver = self.driver\n",
    "                \n",
    "        if target == 'src':\n",
    "            try:\n",
    "                return driver.find_element_by_css_selector(\n",
    "                    css_selector\n",
    "                ).get_attribute('src')\n",
    "            except:\n",
    "                return None\n",
    "        else:\n",
    "            return None\n",
    "\n",
    "    def save_page(self, page_rules, page_id=1):\n",
    "        assert type(page_rules) == dict\n",
    "        current_page = self.current_page\n",
    "        output_name = 'img/' + page_rules['output_tag'].format(page_id)\n",
    "        \n",
    "        if current_page == {}:\n",
    "            get_raw_page(page_rules, page_id)\n",
    "        \n",
    "        img_base64 = current_page['img-base64'].replace(\"data:image/jpg;base64,\",\"\")\n",
    "        img = Image.open(BytesIO(decoder(img_base64)))\n",
    "        img.save(output_name,'JPEG')\n",
    "        \n",
    "        self.current_page = {}\n",
    "        \n",
    "        print(f'...{output_name} saved...')\n",
    "\n",
    "    def loop_it(self, page_rules, no_of_pages=1):\n",
    "        for page_id in range(1, no_of_pages + 1):\n",
    "            self.get_raw_page(page_rules, page_id)\n",
    "            self.save_page(page_rules, page_id)\n",
    "        print('...Loope done...')"
   ]
  },
  {
   "cell_type": "code",
   "execution_count": 3,
   "id": "daily-mailing",
   "metadata": {},
   "outputs": [
    {
     "name": "stderr",
     "output_type": "stream",
     "text": [
      "[WDM] - ====== WebDriver manager ======\n"
     ]
    },
    {
     "name": "stdout",
     "output_type": "stream",
     "text": [
      "\n",
      "\n"
     ]
    },
    {
     "name": "stderr",
     "output_type": "stream",
     "text": [
      "[WDM] - Driver [/home/tonalli/.wdm/drivers/geckodriver/linux64/v0.29.0/geckodriver] found in cache\n"
     ]
    }
   ],
   "source": [
    "my_spider = Spider(delay=4)"
   ]
  },
  {
   "cell_type": "code",
   "execution_count": 4,
   "id": "hindu-florence",
   "metadata": {},
   "outputs": [],
   "source": [
    "page_rules = {\n",
    "        'url': 'http://appstrillas.mx/pdfFlipping/viewer.jsp?id=SbS3AB#page/{}',\n",
    "        'input_tag': 'img-base64',\n",
    "        'output_tag': 'page-{:03}.jpg',\n",
    "        'target': 'src',\n",
    "        'css_selector': '.p{} > img:nth-child(2)',\n",
    "}"
   ]
  },
  {
   "cell_type": "code",
   "execution_count": 5,
   "id": "expected-soundtrack",
   "metadata": {},
   "outputs": [],
   "source": [
    "page_id=77"
   ]
  },
  {
   "cell_type": "code",
   "execution_count": 6,
   "id": "treated-breeding",
   "metadata": {},
   "outputs": [],
   "source": [
    "current_page = my_spider.get_raw_page(page_rules, page_id)"
   ]
  },
  {
   "cell_type": "code",
   "execution_count": 7,
   "id": "fallen-zoning",
   "metadata": {},
   "outputs": [
    {
     "name": "stdout",
     "output_type": "stream",
     "text": [
      "...img/page-077.jpg saved...\n"
     ]
    }
   ],
   "source": [
    "my_spider.save_page(page_rules, page_id)"
   ]
  },
  {
   "cell_type": "code",
   "execution_count": 8,
   "id": "stuffed-feelings",
   "metadata": {},
   "outputs": [
    {
     "name": "stdout",
     "output_type": "stream",
     "text": [
      "...img/page-001.jpg saved...\n",
      "...img/page-002.jpg saved...\n",
      "...img/page-003.jpg saved...\n",
      "...img/page-004.jpg saved...\n",
      "...img/page-005.jpg saved...\n",
      "...img/page-006.jpg saved...\n",
      "...img/page-007.jpg saved...\n",
      "...img/page-008.jpg saved...\n",
      "...img/page-009.jpg saved...\n",
      "...img/page-010.jpg saved...\n",
      "...img/page-011.jpg saved...\n",
      "...img/page-012.jpg saved...\n",
      "...img/page-013.jpg saved...\n",
      "...img/page-014.jpg saved...\n",
      "...img/page-015.jpg saved...\n",
      "...img/page-016.jpg saved...\n",
      "...img/page-017.jpg saved...\n",
      "...img/page-018.jpg saved...\n",
      "...img/page-019.jpg saved...\n",
      "...img/page-020.jpg saved...\n",
      "...img/page-021.jpg saved...\n",
      "...img/page-022.jpg saved...\n",
      "...img/page-023.jpg saved...\n",
      "...img/page-024.jpg saved...\n",
      "...img/page-025.jpg saved...\n",
      "...img/page-026.jpg saved...\n",
      "...img/page-027.jpg saved...\n",
      "...img/page-028.jpg saved...\n",
      "...img/page-029.jpg saved...\n",
      "...img/page-030.jpg saved...\n",
      "...img/page-031.jpg saved...\n",
      "...img/page-032.jpg saved...\n",
      "...img/page-033.jpg saved...\n",
      "...img/page-034.jpg saved...\n",
      "...img/page-035.jpg saved...\n",
      "...img/page-036.jpg saved...\n",
      "...img/page-037.jpg saved...\n",
      "...img/page-038.jpg saved...\n",
      "...img/page-039.jpg saved...\n",
      "...img/page-040.jpg saved...\n",
      "...img/page-041.jpg saved...\n",
      "...img/page-042.jpg saved...\n",
      "...img/page-043.jpg saved...\n",
      "...img/page-044.jpg saved...\n",
      "...img/page-045.jpg saved...\n",
      "...img/page-046.jpg saved...\n",
      "...img/page-047.jpg saved...\n",
      "...img/page-048.jpg saved...\n",
      "...img/page-049.jpg saved...\n",
      "...img/page-050.jpg saved...\n",
      "...img/page-051.jpg saved...\n",
      "...img/page-052.jpg saved...\n",
      "...img/page-053.jpg saved...\n",
      "...img/page-054.jpg saved...\n",
      "...img/page-055.jpg saved...\n",
      "...img/page-056.jpg saved...\n",
      "...img/page-057.jpg saved...\n",
      "...img/page-058.jpg saved...\n",
      "...img/page-059.jpg saved...\n",
      "...img/page-060.jpg saved...\n",
      "...img/page-061.jpg saved...\n",
      "...img/page-062.jpg saved...\n",
      "...img/page-063.jpg saved...\n",
      "...img/page-064.jpg saved...\n",
      "...img/page-065.jpg saved...\n",
      "...img/page-066.jpg saved...\n",
      "...img/page-067.jpg saved...\n",
      "...img/page-068.jpg saved...\n",
      "...img/page-069.jpg saved...\n",
      "...img/page-070.jpg saved...\n",
      "...img/page-071.jpg saved...\n",
      "...img/page-072.jpg saved...\n",
      "...img/page-073.jpg saved...\n",
      "...img/page-074.jpg saved...\n",
      "...img/page-075.jpg saved...\n",
      "...img/page-076.jpg saved...\n",
      "...img/page-077.jpg saved...\n",
      "...img/page-078.jpg saved...\n",
      "...img/page-079.jpg saved...\n",
      "...img/page-080.jpg saved...\n",
      "...img/page-081.jpg saved...\n",
      "...img/page-082.jpg saved...\n",
      "...img/page-083.jpg saved...\n",
      "...img/page-084.jpg saved...\n",
      "...img/page-085.jpg saved...\n",
      "...img/page-086.jpg saved...\n",
      "...img/page-087.jpg saved...\n",
      "...img/page-088.jpg saved...\n",
      "...img/page-089.jpg saved...\n",
      "...img/page-090.jpg saved...\n",
      "...img/page-091.jpg saved...\n",
      "...img/page-092.jpg saved...\n",
      "...img/page-093.jpg saved...\n",
      "...img/page-094.jpg saved...\n",
      "...img/page-095.jpg saved...\n",
      "...img/page-096.jpg saved...\n",
      "...img/page-097.jpg saved...\n",
      "...img/page-098.jpg saved...\n",
      "...img/page-099.jpg saved...\n",
      "...img/page-100.jpg saved...\n",
      "...img/page-101.jpg saved...\n",
      "...img/page-102.jpg saved...\n",
      "...img/page-103.jpg saved...\n",
      "...img/page-104.jpg saved...\n",
      "...img/page-105.jpg saved...\n",
      "...img/page-106.jpg saved...\n",
      "...img/page-107.jpg saved...\n",
      "...img/page-108.jpg saved...\n",
      "...img/page-109.jpg saved...\n",
      "...img/page-110.jpg saved...\n",
      "...img/page-111.jpg saved...\n",
      "...img/page-112.jpg saved...\n",
      "...img/page-113.jpg saved...\n",
      "...img/page-114.jpg saved...\n",
      "...img/page-115.jpg saved...\n",
      "...img/page-116.jpg saved...\n",
      "...img/page-117.jpg saved...\n",
      "...img/page-118.jpg saved...\n",
      "...img/page-119.jpg saved...\n",
      "...img/page-120.jpg saved...\n",
      "...img/page-121.jpg saved...\n",
      "...img/page-122.jpg saved...\n",
      "...img/page-123.jpg saved...\n",
      "...img/page-124.jpg saved...\n",
      "...img/page-125.jpg saved...\n",
      "...img/page-126.jpg saved...\n",
      "...img/page-127.jpg saved...\n",
      "...img/page-128.jpg saved...\n",
      "...img/page-129.jpg saved...\n",
      "...img/page-130.jpg saved...\n",
      "...Loope done...\n"
     ]
    }
   ],
   "source": [
    "my_spider.loop_it(page_rules, no_of_pages=130)"
   ]
  },
  {
   "cell_type": "code",
   "execution_count": null,
   "id": "thrown-sight",
   "metadata": {},
   "outputs": [],
   "source": []
  }
 ],
 "metadata": {
  "kernelspec": {
   "display_name": "Python 3",
   "language": "python",
   "name": "python3"
  },
  "language_info": {
   "codemirror_mode": {
    "name": "ipython",
    "version": 3
   },
   "file_extension": ".py",
   "mimetype": "text/x-python",
   "name": "python",
   "nbconvert_exporter": "python",
   "pygments_lexer": "ipython3",
   "version": "3.8.5"
  }
 },
 "nbformat": 4,
 "nbformat_minor": 5
}
